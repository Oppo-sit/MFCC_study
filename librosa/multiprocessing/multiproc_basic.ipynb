{
 "cells": [
  {
   "cell_type": "code",
   "execution_count": 1,
   "id": "1dbe8dd4-b2db-47ce-9302-940a36aea00f",
   "metadata": {},
   "outputs": [
    {
     "name": "stdout",
     "output_type": "stream",
     "text": [
      "value 0 is in PID : 9584\n",
      "value 1 is in PID : 9584\n",
      "value 2 is in PID : 9584\n",
      "value 3 is in PID : 9584\n",
      "value 4 is in PID : 9584\n",
      "value 5 is in PID : 9584\n",
      "value 6 is in PID : 9584\n",
      "value 7 is in PID : 9584\n",
      "value 8 is in PID : 9584\n",
      "value 9 is in PID : 9584\n",
      "value 10 is in PID : 9584\n",
      "value 11 is in PID : 9584\n",
      "[0, 1, 32, 243, 1024, 3125, 7776, 16807, 32768, 59049, 100000, 161051]\n",
      "***run time(sec) : 12\n"
     ]
    }
   ],
   "source": [
    "# 참조 : https://yganalyst.github.io/data_handling/memo_17_parallel/\n",
    "import time, os\n",
    "\n",
    "def work_func(x):\n",
    "    print(\"value %s is in PID : %s\" % (x, os.getpid()))\n",
    "    time.sleep(1)\n",
    "    return x**5\n",
    "\n",
    "def main():\n",
    "    start = int(time.time())\n",
    "    print(list(map(work_func, range(0,12))))\n",
    "    print(\"***run time(sec) :\", int(time.time()) - start)\n",
    "\n",
    "if __name__ == \"__main__\":\n",
    "    main()"
   ]
  },
  {
   "cell_type": "code",
   "execution_count": 2,
   "id": "eca29276-a7ad-49fd-adf2-aaf10df2ce49",
   "metadata": {},
   "outputs": [
    {
     "data": {
      "text/plain": [
       "8"
      ]
     },
     "execution_count": 2,
     "metadata": {},
     "output_type": "execute_result"
    }
   ],
   "source": [
    "import multiprocessing as mp\n",
    "mp.cpu_count()"
   ]
  },
  {
   "cell_type": "code",
   "execution_count": null,
   "id": "7e1fbae9-7a61-4802-a9b5-8189fbe2d4bb",
   "metadata": {},
   "outputs": [],
   "source": [
    "import time, os\n",
    "from multiprocessing import Pool\n",
    "\n",
    "def work_func(x):\n",
    "    print(\"value %s is in PID : %s\" % (x, os.getpid()))\n",
    "    time.sleep(1)\n",
    "    return x**5\n",
    "\n",
    "def main():\n",
    "    start = int(time.time())\n",
    "    num_cores = 4\n",
    "    pool = Pool(num_cores)\n",
    "    print(pool.map(work_func, range(1,13)))\n",
    "    print(\"***run time(sec) :\", int(time.time()) - start)\n",
    "\n",
    "if __name__ == \"__main__\":\n",
    "    main()\n"
   ]
  },
  {
   "cell_type": "code",
   "execution_count": null,
   "id": "93fe658b-468f-40d3-83f9-399112fdb61f",
   "metadata": {},
   "outputs": [],
   "source": []
  }
 ],
 "metadata": {
  "kernelspec": {
   "display_name": "Python 3 (ipykernel)",
   "language": "python",
   "name": "python3"
  },
  "language_info": {
   "codemirror_mode": {
    "name": "ipython",
    "version": 3
   },
   "file_extension": ".py",
   "mimetype": "text/x-python",
   "name": "python",
   "nbconvert_exporter": "python",
   "pygments_lexer": "ipython3",
   "version": "3.9.6"
  }
 },
 "nbformat": 4,
 "nbformat_minor": 5
}

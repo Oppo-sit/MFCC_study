{
 "cells": [
  {
   "cell_type": "markdown",
   "id": "9c27fe42-2831-4be0-bd29-173bd564e297",
   "metadata": {},
   "source": [
    "<h3> 현재 구축 상황 </h3>\n",
    "폴더에서 파일 불러와서 result란 폴더를 생성 \n",
    "음원 파일이 있는 폴더에 대해 mfcc 연산을 하고 그 plot을 result 폴더에 저장할 수 있다.<br>\n",
    "mfcc 데이터 csv file로 저장 가능<br>\n",
    "csv format의 data_description을 통해서 mfcc data를 emotion에 따라 여러 폴더에 나눠서 저장<br> \n",
    "\n",
    "<h3> 해야할 것 </h3>\n",
    "\n",
    "병렬 연산에 되면 무조건 찾아봐야 함. 데이터 너무 많음."
   ]
  },
  {
   "cell_type": "code",
   "execution_count": null,
   "id": "1a125f6d-2253-418d-bad4-afb047f36f53",
   "metadata": {},
   "outputs": [],
   "source": [
    "import os\n",
    "import numpy as np\n",
    "import matplotlib.pyplot as plt\n",
    "import librosa\n",
    "import librosa.display\n",
    "import matplotlib.cm as cm\n",
    "import pandas as pd"
   ]
  },
  {
   "cell_type": "code",
   "execution_count": null,
   "id": "f7762fb5-de55-4dde-b764-6249f78d8725",
   "metadata": {},
   "outputs": [],
   "source": [
    "path = 'C:/Users/RestJSM/librosa/data/emotion_dataset/5th_year/data'\n",
    "\n",
    "audio_list = os.listdir(path)"
   ]
  },
  {
   "cell_type": "code",
   "execution_count": null,
   "id": "cb33d45e-6a65-4164-bb69-4aabda311121",
   "metadata": {},
   "outputs": [],
   "source": [
    "pd_path = 'C:/Users/RestJSM/librosa/data/emotion_dataset'\n",
    "pd_csv = pd.read_csv(pd_path + '/5th_year.csv', encoding = 'cp949')\n",
    "pd_csv_id = pd_csv.loc[:, ['wav_id', '상황']]\n",
    "print(pd_csv_id)"
   ]
  },
  {
   "cell_type": "code",
   "execution_count": null,
   "id": "c894e509-e97f-4ed9-87b6-3cdda1b435c0",
   "metadata": {},
   "outputs": [],
   "source": [
    "# 문자로 데이터 찾기\n",
    "def find_emotion(csvfile, str): \n",
    "    return csvfile[csvfile['wav_id'].str.contains(str)].iloc[0][1]\n"
   ]
  },
  {
   "cell_type": "code",
   "execution_count": null,
   "id": "a7c33168-8de6-4571-b507-0a053a996750",
   "metadata": {},
   "outputs": [],
   "source": [
    "# 폴더 생성\n",
    "## 출처 : https://data-make.tistory.com/170\n",
    "def createFolder(directory):\n",
    "    try:\n",
    "        if not os.path.exists(directory):\n",
    "            os.makedirs(directory)\n",
    "    except OSError:\n",
    "        print ('Error: Creating directory. ' +  directory)\n",
    "\n",
    "\n",
    "createFolder(path + '/res_anger')\n",
    "createFolder(path + '/res_sad')\n",
    "createFolder(path + '/res_neutral')\n",
    "createFolder(path + '/res_disg')\n",
    "createFolder(path + '/res_fear')\n"
   ]
  },
  {
   "cell_type": "code",
   "execution_count": null,
   "id": "827d077f-b655-4b35-9aa3-199ba6b28ace",
   "metadata": {},
   "outputs": [],
   "source": [
    "cnt=1\n",
    "for audio in audio_list:\n",
    "    # 경로 확장자 분리 참조 : https://jvvp.tistory.com/980\n",
    "    audio_path = path + '/' + audio_list[cnt-1]\n",
    "    file_code, ext = os.path.splitext(audio_path) # 확장자 분리\n",
    "    dirname, basename = os.path.split(file_code) # 경로 분리\n",
    "    y, sr = librosa.load(audio_path, 16000)\n",
    "    \n",
    "    \n",
    "    frame_length = 0.025\n",
    "    frame_stride = 0.01\n",
    "    sr = 16000\n",
    "\n",
    "    n_fft_25 = int(round(sr * frame_length))\n",
    "    hop_length_10 = int(round(sr * frame_stride))\n",
    "    \n",
    "    n_fft = n_fft_25 * 2\n",
    "    win_length = n_fft_25\n",
    "    hop_length = hop_length_10\n",
    "    n_mels = 128 # default\n",
    "    n_mfcc = 20 # default\n",
    "\n",
    "    # mfcc에는 멜 스펙트로그램의 log값이 필요하다. \n",
    "    ## 원래는 logamplitude 함수로 변환하였으나, power를 db로 변환하는 과정 자체가 로그함수를 씌우는 것이기 때문에 power_to_db로 함수가 대체됨\n",
    "    \n",
    "    # audio file -> MFCC data\n",
    "    D = np.abs(librosa.stft(y, n_fft=n_fft, win_length = win_length, hop_length=hop_length))\n",
    "    MS = librosa.feature.melspectrogram(S=D, sr=sr, n_mels=n_mels, n_fft=n_fft, hop_length=hop_length, win_length=win_length)\n",
    "    mfccs = librosa.feature.mfcc(S=librosa.power_to_db(D), sr=sr, n_mfcc=n_mfcc)\n",
    "    \n",
    "    \n",
    "    # numpy array csv로 추출 참조 : https://appia.tistory.com/204\n",
    "    if find_emotion(pd_csv_id, basename) == 'anger':\n",
    "        ext_name = path + '/res_anger/'+basename+'.csv'\n",
    "        np.savetxt(ext_name, mfccs, delimiter=\",\")\n",
    "    elif find_emotion(pd_csv_id, basename) == 'sad':\n",
    "        ext_name = path + '/res_sad/'+basename+'.csv'\n",
    "        np.savetxt(ext_name, mfccs, delimiter=\",\")\n",
    "    elif find_emotion(pd_csv_id, basename) == 'disgust':\n",
    "        ext_name = path + '/res_disg/'+basename+'.csv'\n",
    "        np.savetxt(ext_name, mfccs, delimiter=\",\")\n",
    "    elif find_emotion(pd_csv_id, basename) == 'fear':\n",
    "        ext_name = path + '/res_fear/'+basename+'.csv'\n",
    "        np.savetxt(ext_name, mfccs, delimiter=\",\")\n",
    "    else :\n",
    "        ext_name = path+'/result/'+basename+'.csv'\n",
    "        np.savetxt(ext_name, mfccs, delimiter=\",\")\n",
    "    \n",
    "    \n",
    "    # to plot(visualization)\n",
    "#     plt.figure(figsize=(10, 4))\n",
    "#     fig, ax = plt.subplots()\n",
    "#     img = librosa.display.specshow(mfccs, x_axis='time', ax=ax)\n",
    "#     fig.colorbar(img, ax=ax)\n",
    "#     ax.set(title='MFCC')\n",
    "#     plt.savefig(path + '/result/' + basename)\n",
    "#     plt.close(fig)\n",
    "    \n",
    "    \n",
    "    print(str(cnt) + \"/\" + str(len(audio_list) - 1))\n",
    "    cnt = cnt + 1\n",
    "    if cnt == len(audio_list):\n",
    "        print(\"MFCC transformation is finished!\")\n",
    "    "
   ]
  },
  {
   "cell_type": "code",
   "execution_count": null,
   "id": "74529ff8-12a7-48f1-bb9a-dfeecf68f4a2",
   "metadata": {},
   "outputs": [],
   "source": []
  }
 ],
 "metadata": {
  "kernelspec": {
   "display_name": "Python 3 (ipykernel)",
   "language": "python",
   "name": "python3"
  },
  "language_info": {
   "codemirror_mode": {
    "name": "ipython",
    "version": 3
   },
   "file_extension": ".py",
   "mimetype": "text/x-python",
   "name": "python",
   "nbconvert_exporter": "python",
   "pygments_lexer": "ipython3",
   "version": "3.9.6"
  }
 },
 "nbformat": 4,
 "nbformat_minor": 5
}

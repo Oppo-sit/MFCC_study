{
 "cells": [
  {
   "cell_type": "markdown",
   "id": "9c27fe42-2831-4be0-bd29-173bd564e297",
   "metadata": {},
   "source": [
    "<h3> 현재 구축 상황 </h3>\n",
    "폴더에서 파일 불러와서 result란 폴더를 생성 \n",
    "음원 파일이 있는 폴더에 대해 mfcc 연산을 하고 그 plot을 result 폴더에 저장할 수 있다.<br>\n",
    "mfcc 데이터 csv file로 저장 가능<br>\n",
    "\n",
    "<h3> 해야할 것 </h3>\n",
    "\n",
    "병렬 연산에 되면 무조건 찾아봐야 함. 데이터 너무 많음."
   ]
  },
  {
   "cell_type": "code",
   "execution_count": 1,
   "id": "1a125f6d-2253-418d-bad4-afb047f36f53",
   "metadata": {},
   "outputs": [],
   "source": [
    "import os\n",
    "import numpy as np\n",
    "import matplotlib.pyplot as plt\n",
    "import librosa\n",
    "import librosa.display\n",
    "import matplotlib.cm as cm\n",
    "import pandas as pd"
   ]
  },
  {
   "cell_type": "code",
   "execution_count": 3,
   "id": "f7762fb5-de55-4dde-b764-6249f78d8725",
   "metadata": {},
   "outputs": [],
   "source": [
    "path = 'C:/Users/RestJSM/librosa/data/emotion_dataset/5th_year_2nd'\n",
    "\n",
    "audio_list = os.listdir(path)"
   ]
  },
  {
   "cell_type": "code",
   "execution_count": 2,
   "id": "cb33d45e-6a65-4164-bb69-4aabda311121",
   "metadata": {},
   "outputs": [],
   "source": [
    "pd_path = 'C:/Users/RestJSM/librosa/data/emotion_dataset'\n",
    "pd_csv = pd.read_csv(pd_path + '/5th_year.csv', encoding = 'cp949')\n",
    "pd_csv_filt = pd_csv.loc[pd_csv['상황'] == 'anger']\n",
    "pd_csv_id = pd_csv_filt.loc[:, ['wav_id', '상황']]"
   ]
  },
  {
   "cell_type": "code",
   "execution_count": 5,
   "id": "c894e509-e97f-4ed9-87b6-3cdda1b435c0",
   "metadata": {},
   "outputs": [],
   "source": [
    "# 문자로 데이터 찾기\n",
    "def find_emotion(x): \n",
    "    print(pd_csv_id[pd_csv_id['wav_id'].str.contains(x)].iloc[0][1])\n",
    "    \n",
    "    "
   ]
  },
  {
   "cell_type": "code",
   "execution_count": 3,
   "id": "a7c33168-8de6-4571-b507-0a053a996750",
   "metadata": {},
   "outputs": [],
   "source": [
    "# 폴더 생성\n",
    "## 출처 : https://data-make.tistory.com/170\n",
    "def createFolder(directory):\n",
    "    try:\n",
    "        if not os.path.exists(directory):\n",
    "            os.makedirs(directory)\n",
    "    except OSError:\n",
    "        print ('Error: Creating directory. ' +  directory)\n",
    "\n",
    "\n",
    "createFolder(path + '/res_anger')\n",
    "createFolder(path + '/res_sad')\n",
    "createFolder(path + '/res_neutral')\n"
   ]
  },
  {
   "cell_type": "code",
   "execution_count": 14,
   "id": "827d077f-b655-4b35-9aa3-199ba6b28ace",
   "metadata": {},
   "outputs": [
    {
     "name": "stdout",
     "output_type": "stream",
     "text": [
      "5f3c9ed98a3c1005aa97c4bd .wav\n",
      "1/19374\n",
      "5f3c9ef78a3c1005aa97c4be .wav\n",
      "2/19374\n",
      "5f3c9f658a3c1005aa97c4c7 .wav\n",
      "3/19374\n",
      "5f3c9f808a3c1005aa97c4c8 .wav\n",
      "4/19374\n",
      "5f3c9f9c8a3c1005aa97c4cb .wav\n",
      "5/19374\n",
      "5f3c9fcc8a3c1005aa97c4ce .wav\n",
      "6/19374\n",
      "5f3ca01b8a3c1005aa97c4d3 .wav\n"
     ]
    },
    {
     "ename": "KeyboardInterrupt",
     "evalue": "",
     "output_type": "error",
     "traceback": [
      "\u001b[1;31m---------------------------------------------------------------------------\u001b[0m",
      "\u001b[1;31mKeyboardInterrupt\u001b[0m                         Traceback (most recent call last)",
      "\u001b[1;32m~\\AppData\\Local\\Temp/ipykernel_6716/2441548049.py\u001b[0m in \u001b[0;36m<module>\u001b[1;34m\u001b[0m\n\u001b[0;32m     31\u001b[0m     \u001b[1;31m# numpy array csv로 추출 참조 : https://appia.tistory.com/204\u001b[0m\u001b[1;33m\u001b[0m\u001b[1;33m\u001b[0m\u001b[1;33m\u001b[0m\u001b[0m\n\u001b[0;32m     32\u001b[0m     \u001b[0mext_name\u001b[0m \u001b[1;33m=\u001b[0m \u001b[0mpath\u001b[0m\u001b[1;33m+\u001b[0m\u001b[1;34m'/result/'\u001b[0m\u001b[1;33m+\u001b[0m\u001b[0mbasename\u001b[0m\u001b[1;33m+\u001b[0m\u001b[1;34m'.csv'\u001b[0m\u001b[1;33m\u001b[0m\u001b[1;33m\u001b[0m\u001b[0m\n\u001b[1;32m---> 33\u001b[1;33m     \u001b[0mnp\u001b[0m\u001b[1;33m.\u001b[0m\u001b[0msavetxt\u001b[0m\u001b[1;33m(\u001b[0m\u001b[0mext_name\u001b[0m\u001b[1;33m,\u001b[0m \u001b[0mmfccs\u001b[0m\u001b[1;33m,\u001b[0m \u001b[0mdelimiter\u001b[0m\u001b[1;33m=\u001b[0m\u001b[1;34m\",\"\u001b[0m\u001b[1;33m)\u001b[0m\u001b[1;33m\u001b[0m\u001b[1;33m\u001b[0m\u001b[0m\n\u001b[0m\u001b[0;32m     34\u001b[0m \u001b[1;33m\u001b[0m\u001b[0m\n\u001b[0;32m     35\u001b[0m     \u001b[1;31m# to plot(visualization)\u001b[0m\u001b[1;33m\u001b[0m\u001b[1;33m\u001b[0m\u001b[1;33m\u001b[0m\u001b[0m\n",
      "\u001b[1;32m<__array_function__ internals>\u001b[0m in \u001b[0;36msavetxt\u001b[1;34m(*args, **kwargs)\u001b[0m\n",
      "\u001b[1;32m~\\anaconda3\\envs\\speechRecog\\lib\\site-packages\\numpy\\lib\\npyio.py\u001b[0m in \u001b[0;36msavetxt\u001b[1;34m(fname, X, fmt, delimiter, newline, header, footer, comments, encoding)\u001b[0m\n\u001b[0;32m   1436\u001b[0m                                     \u001b[1;34m\"format specifier ('%s')\"\u001b[0m\u001b[1;33m\u001b[0m\u001b[1;33m\u001b[0m\u001b[0m\n\u001b[0;32m   1437\u001b[0m                                     % (str(X.dtype), format)) from e\n\u001b[1;32m-> 1438\u001b[1;33m                 \u001b[0mfh\u001b[0m\u001b[1;33m.\u001b[0m\u001b[0mwrite\u001b[0m\u001b[1;33m(\u001b[0m\u001b[0mv\u001b[0m\u001b[1;33m)\u001b[0m\u001b[1;33m\u001b[0m\u001b[1;33m\u001b[0m\u001b[0m\n\u001b[0m\u001b[0;32m   1439\u001b[0m \u001b[1;33m\u001b[0m\u001b[0m\n\u001b[0;32m   1440\u001b[0m         \u001b[1;32mif\u001b[0m \u001b[0mlen\u001b[0m\u001b[1;33m(\u001b[0m\u001b[0mfooter\u001b[0m\u001b[1;33m)\u001b[0m \u001b[1;33m>\u001b[0m \u001b[1;36m0\u001b[0m\u001b[1;33m:\u001b[0m\u001b[1;33m\u001b[0m\u001b[1;33m\u001b[0m\u001b[0m\n",
      "\u001b[1;31mKeyboardInterrupt\u001b[0m: "
     ]
    }
   ],
   "source": [
    "cnt=1\n",
    "for audio in audio_list:\n",
    "    # 경로 확장자 분리 참조 : https://jvvp.tistory.com/980\n",
    "    audio_path = path + '/' + audio_list[cnt-1]\n",
    "    file_code, ext = os.path.splitext(audio_path) # 확장자 분리\n",
    "    dirname, basename = os.path.split(file_code) # 경로 분리\n",
    "    y, sr = librosa.load(audio_path, 16000)\n",
    "    print(basename, ext)\n",
    "    print(find_emotion(basename))\n",
    "    \n",
    "#     frame_length = 0.025\n",
    "#     frame_stride = 0.01\n",
    "#     sr = 16000\n",
    "\n",
    "#     n_fft_25 = int(round(sr * frame_length))\n",
    "#     hop_length_10 = int(round(sr * frame_stride))\n",
    "    \n",
    "#     n_fft = n_fft_25 * 2\n",
    "#     win_length = n_fft_25\n",
    "#     hop_length = hop_length_10\n",
    "#     n_mels = 128 # default\n",
    "#     n_mfcc = 20 # default\n",
    "\n",
    "#     # mfcc에는 멜 스펙트로그램의 log값이 필요하다. \n",
    "#     ## 원래는 logamplitude 함수로 변환하였으나, power를 db로 변환하는 과정 자체가 로그함수를 씌우는 것이기 때문에 power_to_db로 함수가 대체됨\n",
    "    \n",
    "#     # audio file -> MFCC data\n",
    "#     D = np.abs(librosa.stft(y, n_fft=n_fft, win_length = win_length, hop_length=hop_length))\n",
    "#     MS = librosa.feature.melspectrogram(S=D, sr=sr, n_mels=n_mels, n_fft=n_fft, hop_length=hop_length, win_length=win_length)\n",
    "#     mfccs = librosa.feature.mfcc(S=librosa.power_to_db(D), sr=sr, n_mfcc=n_mfcc)\n",
    "    \n",
    "    \n",
    "#     # numpy array csv로 추출 참조 : https://appia.tistory.com/204\n",
    "#     if find_emotion(basename)\n",
    "    \n",
    "#     ext_name = path+'/result/'+basename+'.csv'\n",
    "#     np.savetxt(ext_name, mfccs, delimiter=\",\")\n",
    "    \n",
    "    # to plot(visualization)\n",
    "#     plt.figure(figsize=(10, 4))\n",
    "#     fig, ax = plt.subplots()\n",
    "#     img = librosa.display.specshow(mfccs, x_axis='time', ax=ax)\n",
    "#     fig.colorbar(img, ax=ax)\n",
    "#     ax.set(title='MFCC')\n",
    "#     plt.savefig(path + '/result/' + basename)\n",
    "#     plt.close(fig)\n",
    "    \n",
    "    \n",
    "    print(str(cnt) + \"/\" + str(len(audio_list) - 1))\n",
    "    cnt = cnt + 1\n",
    "    if cnt == len(audio_list):\n",
    "        print(\"MFCC transformation is finished!\")\n",
    "    "
   ]
  },
  {
   "cell_type": "code",
   "execution_count": null,
   "id": "74529ff8-12a7-48f1-bb9a-dfeecf68f4a2",
   "metadata": {},
   "outputs": [],
   "source": []
  }
 ],
 "metadata": {
  "kernelspec": {
   "display_name": "Python 3 (ipykernel)",
   "language": "python",
   "name": "python3"
  },
  "language_info": {
   "codemirror_mode": {
    "name": "ipython",
    "version": 3
   },
   "file_extension": ".py",
   "mimetype": "text/x-python",
   "name": "python",
   "nbconvert_exporter": "python",
   "pygments_lexer": "ipython3",
   "version": "3.9.6"
  }
 },
 "nbformat": 4,
 "nbformat_minor": 5
}

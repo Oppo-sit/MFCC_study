{
 "cells": [
  {
   "cell_type": "code",
   "execution_count": null,
   "id": "1dbe8dd4-b2db-47ce-9302-940a36aea00f",
   "metadata": {},
   "outputs": [],
   "source": [
    "import multiprocessing as mp\n",
    "\n",
    "if __name_- == \"__name__\":"
   ]
  },
  {
   "cell_type": "code",
   "execution_count": null,
   "id": "eca29276-a7ad-49fd-adf2-aaf10df2ce49",
   "metadata": {},
   "outputs": [],
   "source": []
  },
  {
   "cell_type": "code",
   "execution_count": null,
   "id": "7e1fbae9-7a61-4802-a9b5-8189fbe2d4bb",
   "metadata": {},
   "outputs": [],
   "source": []
  },
  {
   "cell_type": "code",
   "execution_count": null,
   "id": "93fe658b-468f-40d3-83f9-399112fdb61f",
   "metadata": {},
   "outputs": [],
   "source": []
  }
 ],
 "metadata": {
  "kernelspec": {
   "display_name": "Python 3 (ipykernel)",
   "language": "python",
   "name": "python3"
  },
  "language_info": {
   "codemirror_mode": {
    "name": "ipython",
    "version": 3
   },
   "file_extension": ".py",
   "mimetype": "text/x-python",
   "name": "python",
   "nbconvert_exporter": "python",
   "pygments_lexer": "ipython3",
   "version": "3.9.6"
  }
 },
 "nbformat": 4,
 "nbformat_minor": 5
}

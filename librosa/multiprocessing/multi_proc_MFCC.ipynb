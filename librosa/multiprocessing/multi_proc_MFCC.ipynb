{
 "cells": [
  {
   "cell_type": "markdown",
   "id": "28ae8017",
   "metadata": {},
   "source": [
    "<h3> 현재 구축 상황 </h3>\n",
    "폴더에서 파일 불러와서 result란 폴더를 생성 \n",
    "음원 파일이 있는 폴더에 대해 mfcc 연산을 하고 그 plot을 result 폴더에 저장할 수 있다.<br>\n",
    "mfcc 데이터 csv file로 저장 가능<br>\n",
    "csv format의 data_description을 통해서 mfcc data를 emotion에 따라 여러 폴더에 나눠서 저장<br> \n",
    "\n",
    "<h3> 해야할 것 </h3>\n",
    "\n",
    "병렬 연산에 되면 무조건 찾아봐야 함. 데이터 너무 많음."
   ]
  },
  {
   "cell_type": "code",
   "execution_count": 1,
   "id": "15e8e97c",
   "metadata": {},
   "outputs": [],
   "source": [
    "import time\n",
    "import os\n",
    "import numpy as np\n",
    "import matplotlib.pyplot as plt\n",
    "import librosa\n",
    "import librosa.display\n",
    "import matplotlib.cm as cm\n",
    "import pandas as pd\n",
    "import joblib # multiprocessing에 필요한 라이브러리"
   ]
  },
  {
   "cell_type": "code",
   "execution_count": 2,
   "id": "0c4f0206",
   "metadata": {},
   "outputs": [],
   "source": [
    "# 문자로 데이터 찾기\n",
    "def find_emotion(csvfile, str): \n",
    "    return csvfile[csvfile['wav_id'].str.contains(str)].iloc[0][1]\n"
   ]
  },
  {
   "cell_type": "code",
   "execution_count": 3,
   "id": "b916ea92",
   "metadata": {},
   "outputs": [],
   "source": [
    "# 멀티프로세싱을 위해서 mfcc 구동 및 결과 출력 과정을 함수로 만듦\n",
    "# joblib의 입력값이 튜플이기 때문에 cnt, audio_list 가지고 고생할 필요 X\n",
    "def mfcc_multi(y):\n",
    "    \n",
    "    # 경로 확장자 분리 참조 : https://jvvp.tistory.com/980\n",
    "    y = ''.join(y) # y가 튜플타입이기 때문에 문자열로 변환해주어야함.\n",
    "    print(y) # audio file명 나옴(확장자와 같이)\n",
    "    audio_path = path + '/' + y\n",
    "    file_code, ext = os.path.splitext(y)  # 확장자 분리\n",
    "    dirname, basename = os.path.split(file_code)  # 경로 분리\n",
    "    y, sr = librosa.load(audio_path, 16000)\n",
    "        \n",
    "    frame_length = 0.025\n",
    "    frame_stride = 0.01\n",
    "    sr = 16000\n",
    "\n",
    "    n_fft_25 = int(round(sr * frame_length))\n",
    "    hop_length_10 = int(round(sr * frame_stride))\n",
    "\n",
    "    n_fft = n_fft_25 * 2\n",
    "    win_length = n_fft_25\n",
    "    hop_length = hop_length_10\n",
    "    n_mels = 128  # default\n",
    "    n_mfcc = 20  # default\n",
    "\n",
    "    # mfcc에는 멜 스펙트로그램의 log값이 필요하다.\n",
    "    ## 원래는 logamplitude 함수로 변환하였으나, power를 db로 변환하는 과정 자체가 로그함수를 씌우는 것이기 때문에 power_to_db로 함수가 대체됨\n",
    "\n",
    "    # audio file -> MFCC data\n",
    "    D = np.abs(librosa.stft(y, n_fft=n_fft, win_length=win_length, hop_length=hop_length))\n",
    "    MS = librosa.feature.melspectrogram(S=D, sr=sr, n_mels=n_mels, n_fft=n_fft, hop_length=hop_length,\n",
    "                                            win_length=win_length)\n",
    "    mfccs = librosa.feature.mfcc(S=librosa.power_to_db(D), sr=sr, n_mfcc=n_mfcc)\n",
    "\n",
    "    # numpy array csv로 추출 참조 : https://appia.tistory.com/204\n",
    "    if find_emotion(pd_csv_id, basename) == 'anger':\n",
    "        ext_name = path + '/res_anger/' + basename + '.csv'\n",
    "        np.savetxt(ext_name, mfccs, delimiter=\",\")\n",
    "    elif find_emotion(pd_csv_id, basename) == 'sad':\n",
    "        ext_name = path + '/res_sad/' + basename + '.csv'\n",
    "        np.savetxt(ext_name, mfccs, delimiter=\",\")\n",
    "    elif find_emotion(pd_csv_id, basename) == 'disgust':\n",
    "        ext_name = path + '/res_disg/' + basename + '.csv'\n",
    "        np.savetxt(ext_name, mfccs, delimiter=\",\")\n",
    "    elif find_emotion(pd_csv_id, basename) == 'fear':\n",
    "        ext_name = path + '/res_fear/' + basename + '.csv'\n",
    "        np.savetxt(ext_name, mfccs, delimiter=\",\")\n",
    "    else:\n",
    "        ext_name = path + '/res_else/' + basename + '.csv'\n",
    "        np.savetxt(ext_name, mfccs, delimiter=\",\")\n",
    "\n"
   ]
  },
  {
   "cell_type": "code",
   "execution_count": 4,
   "id": "868ec32e",
   "metadata": {},
   "outputs": [],
   "source": [
    "# 폴더 생성\n",
    "## 출처 : https://data-make.tistory.com/170\n",
    "def createFolder(directory):\n",
    "    try:\n",
    "        if not os.path.exists(directory):\n",
    "            os.makedirs(directory)\n",
    "    except OSError:\n",
    "        print ('Error: Creating directory. ' +  directory)\n"
   ]
  },
  {
   "cell_type": "code",
   "execution_count": 6,
   "id": "bcc8e699",
   "metadata": {},
   "outputs": [
    {
     "name": "stdout",
     "output_type": "stream",
     "text": [
      "                         wav_id       상황\n",
      "0      5ed10dbc2880d70f286121c3  disgust\n",
      "1      5ecb60ef9aa8ea0eec53edb1  disgust\n",
      "2      5f052858b140144dfcfef768      sad\n",
      "3      5f0e72c4b140144dfcff3fa5      sad\n",
      "4      5ed10ddd7e21a10eee2537ce  disgust\n",
      "...                         ...      ...\n",
      "10006  5f05ffd5b140144dfcff01c7     fear\n",
      "10007  5ec53bf82880d70f28611de0      sad\n",
      "10008  5f0b2b5ab140144dfcff2759     fear\n",
      "10009  5f0b2b75b140144dfcff275a     fear\n",
      "10010  5f0527b3b140144dfcfef75e     fear\n",
      "\n",
      "[10011 rows x 2 columns]\n"
     ]
    },
    {
     "name": "stderr",
     "output_type": "stream",
     "text": [
      "[Parallel(n_jobs=8)]: Using backend LokyBackend with 8 concurrent workers.\n",
      "[Parallel(n_jobs=8)]: Done  34 tasks      | elapsed:    8.1s\n",
      "[Parallel(n_jobs=8)]: Done 184 tasks      | elapsed:   19.2s\n"
     ]
    },
    {
     "name": "stdout",
     "output_type": "stream",
     "text": [
      "[None, None, None, None, None, None, None, None, None, None, None, None, None, None, None, None, None, None, None, None, None, None, None, None, None, None, None, None, None, None, None, None, None, None, None, None, None, None, None, None, None, None, None, None, None, None, None, None, None, None, None, None, None, None, None, None, None, None, None, None, None, None, None, None, None, None, None, None, None, None, None, None, None, None, None, None, None, None, None, None, None, None, None, None, None, None, None, None, None, None, None, None, None, None, None, None, None, None, None, None, None, None, None, None, None, None, None, None, None, None, None, None, None, None, None, None, None, None, None, None, None, None, None, None, None, None, None, None, None, None, None, None, None, None, None, None, None, None, None, None, None, None, None, None, None, None, None, None, None, None, None, None, None, None, None, None, None, None, None, None, None, None, None, None, None, None, None, None, None, None, None, None, None, None, None, None, None, None, None, None, None, None, None, None, None, None, None, None, None, None, None, None, None, None, None, None, None, None, None, None, None, None, None, None, None, None, None, None, None, None, None, None, None, None, None, None, None, None, None, None, None, None, None, None, None, None, None, None, None, None, None, None, None, None, None, None, None, None, None, None, None, None, None, None, None, None, None, None, None, None, None, None, None, None, None, None, None, None, None, None, None, None, None, None, None, None, None, None, None, None, None, None, None, None, None, None, None, None, None, None, None, None, None, None, None, None, None, None, None, None, None, None, None, None, None, None, None, None, None, None, None, None, None, None, None, None, None, None, None, None, None, None, None, None, None, None, None, None, None, None, None, None, None, None, None, None, None, None, None, None, None, None, None, None]\n"
     ]
    },
    {
     "name": "stderr",
     "output_type": "stream",
     "text": [
      "[Parallel(n_jobs=8)]: Done 334 out of 334 | elapsed:   32.7s finished\n"
     ]
    }
   ],
   "source": [
    "# 파이썬 파일 생성하듯이 실행\n",
    "if __name__ == \"__main__\":\n",
    "    path = 'C:/Users/RestJSM/librosa/data/emotion_dataset/test'\n",
    "\n",
    "    audio_list = os.listdir(path)\n",
    "\n",
    "    pd_path = 'C:/Users/RestJSM/librosa/data/emotion_dataset'\n",
    "    pd_csv = pd.read_csv(pd_path + '/5th_year.csv', encoding = 'cp949')\n",
    "    pd_csv_id = pd_csv.loc[:, ['wav_id', '상황']]\n",
    "    print(pd_csv_id)\n",
    "\n",
    "    createFolder(path + '/res_anger')\n",
    "    createFolder(path + '/res_sad')\n",
    "    createFolder(path + '/res_neutral')\n",
    "    createFolder(path + '/res_disg')\n",
    "    createFolder(path + '/res_fear')\n",
    "    createFolder(path + '/res_else')\n",
    "\n",
    "\n",
    "    n_jobs = 8\n",
    "    verbose = 1\n",
    "\n",
    "    jobs = [joblib.delayed(mfcc_multi)(audio) for audio in zip(audio_list)]\n",
    "    out = joblib.Parallel(n_jobs=n_jobs, verbose=verbose)(jobs)\n",
    "    print(out)"
   ]
  },
  {
   "cell_type": "code",
   "execution_count": null,
   "id": "13ade806",
   "metadata": {},
   "outputs": [],
   "source": []
  }
 ],
 "metadata": {
  "kernelspec": {
   "display_name": "Python 3 (ipykernel)",
   "language": "python",
   "name": "python3"
  },
  "language_info": {
   "codemirror_mode": {
    "name": "ipython",
    "version": 3
   },
   "file_extension": ".py",
   "mimetype": "text/x-python",
   "name": "python",
   "nbconvert_exporter": "python",
   "pygments_lexer": "ipython3",
   "version": "3.9.6"
  }
 },
 "nbformat": 4,
 "nbformat_minor": 5
}

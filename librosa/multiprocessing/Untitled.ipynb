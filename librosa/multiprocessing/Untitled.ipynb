{
 "cells": [
  {
   "cell_type": "code",
   "execution_count": null,
   "id": "a5dc49a0",
   "metadata": {},
   "outputs": [
    {
     "name": "stderr",
     "output_type": "stream",
     "text": [
      "Downloading file 'Kevin_MacLeod_-_Vibe_Ace.hq.ogg' from 'https://librosa.org/data/audio/Kevin_MacLeod_-_Vibe_Ace.hq.ogg' to 'C:\\Users\\RestJSM\\AppData\\Local\\librosa\\librosa\\Cache'.\n"
     ]
    },
    {
     "name": "stdout",
     "output_type": "stream",
     "text": [
      "Time single process: 12.04542851448059\n",
      "Time multiprocessing (many small tasks): 10.156739711761475\n"
     ]
    }
   ],
   "source": [
    "import time\n",
    "import numpy as np\n",
    "import librosa\n",
    "from joblib import Parallel, delayed\n",
    "from functools import partial\n",
    "from multiprocessing import Pool\n",
    "\n",
    "n_proc = 4\n",
    "\n",
    "y, sr = librosa.load(librosa.util.example_audio_file(), duration=60) # load audio sample\n",
    "y = np.repeat(y, 10) # repeat signal so that we can get more reliable measurements\n",
    "sample_len = int(sr * 0.2) # We will compute MFCC for short pieces of audio\n",
    "\n",
    "def get_mfcc_in_loop(audio, sr, sample_len):\n",
    "    # We split long array into small ones of lenth sample_len\n",
    "    y_windowed = np.array_split(audio, np.arange(sample_len, len(audio), sample_len))\n",
    "    for sample in y_windowed:\n",
    "        mfcc = librosa.feature.mfcc(y=sample, sr=sr)\n",
    "\n",
    "start = time.time()\n",
    "get_mfcc_in_loop(y, sr, sample_len)\n",
    "print('Time single process:', time.time() - start)\n",
    "\n",
    "# Let's test now feeding these small arrays to pool of 4 workers. Since computing\n",
    "# MFCCs for these small arrays is fast, I'd expect this to be not that fast\n",
    "start = time.time()\n",
    "y_windowed = np.array_split(y, np.arange(sample_len, len(y), sample_len))\n",
    "with Pool(n_proc) as pool:\n",
    "    func = partial(librosa.feature.mfcc, sr=sr)\n",
    "    result = pool.map(func, y_windowed)\n",
    "print('Time multiprocessing (many small tasks):', time.time() - start)\n",
    "\n",
    "# Here we split the audio into 4 chunks and process them separately. This I'd expect\n",
    "# to be fast and somehow it isn't. What could be the cause? Anything to do about it?\n",
    "start = time.time()\n",
    "y_split = np.array_split(y, n_proc)\n",
    "with Pool(n_proc) as pool:\n",
    "    func = partial(get_mfcc_in_loop, sr=sr, sample_len=sample_len)\n",
    "    result = pool.map(func, y_split)\n",
    "print('Time multiprocessing (a few large tasks):', time.time() - start)\n",
    "\n",
    "start = time.time()\n",
    "y_windowed = np.array_split(y, np.arange(sample_len, len(y), sample_len))\n",
    "Parallel(n_jobs=n_proc, backend='multiprocessing')(delayed(get_mfcc_in_loop)(audio=data, sr=sr, sample_len=sample_len) for data in y_windowed)\n",
    "print('Time multiprocessing with joblib (many small tasks):', time.time() - start)\n",
    "\n",
    "\n",
    "y_split = np.array_split(y, n_proc)\n",
    "start = time.time()\n",
    "Parallel(n_jobs=n_proc, backend='multiprocessing')(delayed(get_mfcc_in_loop)(audio=data, sr=sr, sample_len=sample_len) for data in y_split)\n",
    "print('Time multiprocessing with joblib (a few large tasks):', time.time() - start)"
   ]
  },
  {
   "cell_type": "code",
   "execution_count": null,
   "id": "06cf1cb8",
   "metadata": {},
   "outputs": [],
   "source": []
  }
 ],
 "metadata": {
  "kernelspec": {
   "display_name": "Python 3 (ipykernel)",
   "language": "python",
   "name": "python3"
  },
  "language_info": {
   "codemirror_mode": {
    "name": "ipython",
    "version": 3
   },
   "file_extension": ".py",
   "mimetype": "text/x-python",
   "name": "python",
   "nbconvert_exporter": "python",
   "pygments_lexer": "ipython3",
   "version": "3.9.6"
  }
 },
 "nbformat": 4,
 "nbformat_minor": 5
}
